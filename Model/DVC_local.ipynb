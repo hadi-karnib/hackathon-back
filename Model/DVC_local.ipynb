{
 "cells": [
  {
   "cell_type": "code",
   "execution_count": 2,
   "id": "61d8299b-c066-44cd-9874-760f96d41158",
   "metadata": {
    "scrolled": true
   },
   "outputs": [
    {
     "name": "stdout",
     "output_type": "stream",
     "text": [
      "Requirement already satisfied: dvc in /Users/layalsaadeddine/myenv/lib/python3.12/site-packages (3.52.0)\n",
      "Requirement already satisfied: attrs>=22.2.0 in /Users/layalsaadeddine/myenv/lib/python3.12/site-packages (from dvc) (23.2.0)\n",
      "Requirement already satisfied: celery in /Users/layalsaadeddine/myenv/lib/python3.12/site-packages (from dvc) (5.4.0)\n",
      "Requirement already satisfied: colorama>=0.3.9 in /Users/layalsaadeddine/myenv/lib/python3.12/site-packages (from dvc) (0.4.6)\n",
      "Requirement already satisfied: configobj>=5.0.6 in /Users/layalsaadeddine/myenv/lib/python3.12/site-packages (from dvc) (5.0.8)\n",
      "Requirement already satisfied: distro>=1.3 in /Users/layalsaadeddine/myenv/lib/python3.12/site-packages (from dvc) (1.9.0)\n",
      "Requirement already satisfied: dpath<3,>=2.1.0 in /Users/layalsaadeddine/myenv/lib/python3.12/site-packages (from dvc) (2.2.0)\n",
      "Requirement already satisfied: dulwich in /Users/layalsaadeddine/myenv/lib/python3.12/site-packages (from dvc) (0.22.1)\n",
      "Requirement already satisfied: dvc-data<3.16,>=3.15 in /Users/layalsaadeddine/myenv/lib/python3.12/site-packages (from dvc) (3.15.1)\n",
      "Requirement already satisfied: dvc-http>=2.29.0 in /Users/layalsaadeddine/myenv/lib/python3.12/site-packages (from dvc) (2.32.0)\n",
      "Requirement already satisfied: dvc-objects in /Users/layalsaadeddine/myenv/lib/python3.12/site-packages (from dvc) (5.1.0)\n",
      "Requirement already satisfied: dvc-render<2,>=1.0.1 in /Users/layalsaadeddine/myenv/lib/python3.12/site-packages (from dvc) (1.0.2)\n",
      "Requirement already satisfied: dvc-studio-client<1,>=0.21 in /Users/layalsaadeddine/myenv/lib/python3.12/site-packages (from dvc) (0.21.0)\n",
      "Requirement already satisfied: dvc-task<1,>=0.3.0 in /Users/layalsaadeddine/myenv/lib/python3.12/site-packages (from dvc) (0.4.0)\n",
      "Requirement already satisfied: flatten-dict<1,>=0.4.1 in /Users/layalsaadeddine/myenv/lib/python3.12/site-packages (from dvc) (0.4.2)\n",
      "Requirement already satisfied: flufl.lock<9,>=8.1.0 in /Users/layalsaadeddine/myenv/lib/python3.12/site-packages (from dvc) (8.1.0)\n",
      "Requirement already satisfied: fsspec>=2024.2.0 in /Users/layalsaadeddine/myenv/lib/python3.12/site-packages (from dvc) (2024.6.1)\n",
      "Requirement already satisfied: funcy>=1.14 in /Users/layalsaadeddine/myenv/lib/python3.12/site-packages (from dvc) (2.0)\n",
      "Requirement already satisfied: grandalf<1,>=0.7 in /Users/layalsaadeddine/myenv/lib/python3.12/site-packages (from dvc) (0.8)\n",
      "Requirement already satisfied: gto<2,>=1.6.0 in /Users/layalsaadeddine/myenv/lib/python3.12/site-packages (from dvc) (1.7.1)\n",
      "Requirement already satisfied: hydra-core>=1.1 in /Users/layalsaadeddine/myenv/lib/python3.12/site-packages (from dvc) (1.3.2)\n",
      "Requirement already satisfied: iterative-telemetry>=0.0.7 in /Users/layalsaadeddine/myenv/lib/python3.12/site-packages (from dvc) (0.0.8)\n",
      "Requirement already satisfied: kombu in /Users/layalsaadeddine/myenv/lib/python3.12/site-packages (from dvc) (5.3.7)\n",
      "Requirement already satisfied: networkx>=2.5 in /Users/layalsaadeddine/myenv/lib/python3.12/site-packages (from dvc) (3.3)\n",
      "Requirement already satisfied: omegaconf in /Users/layalsaadeddine/myenv/lib/python3.12/site-packages (from dvc) (2.3.0)\n",
      "Requirement already satisfied: packaging>=19 in /Users/layalsaadeddine/myenv/lib/python3.12/site-packages (from dvc) (24.1)\n",
      "Requirement already satisfied: pathspec>=0.10.3 in /Users/layalsaadeddine/myenv/lib/python3.12/site-packages (from dvc) (0.12.1)\n",
      "Requirement already satisfied: platformdirs<4,>=3.1.1 in /Users/layalsaadeddine/myenv/lib/python3.12/site-packages (from dvc) (3.11.0)\n",
      "Requirement already satisfied: psutil>=5.8 in /Users/layalsaadeddine/myenv/lib/python3.12/site-packages (from dvc) (6.0.0)\n",
      "Requirement already satisfied: pydot>=1.2.4 in /Users/layalsaadeddine/myenv/lib/python3.12/site-packages (from dvc) (3.0.1)\n",
      "Requirement already satisfied: pygtrie>=2.3.2 in /Users/layalsaadeddine/myenv/lib/python3.12/site-packages (from dvc) (2.5.0)\n",
      "Requirement already satisfied: pyparsing>=2.4.7 in /Users/layalsaadeddine/myenv/lib/python3.12/site-packages (from dvc) (3.1.2)\n",
      "Requirement already satisfied: requests>=2.22 in /Users/layalsaadeddine/myenv/lib/python3.12/site-packages (from dvc) (2.32.3)\n",
      "Requirement already satisfied: rich>=12 in /Users/layalsaadeddine/myenv/lib/python3.12/site-packages (from dvc) (13.7.1)\n",
      "Requirement already satisfied: ruamel.yaml>=0.17.11 in /Users/layalsaadeddine/myenv/lib/python3.12/site-packages (from dvc) (0.18.6)\n",
      "Requirement already satisfied: scmrepo<4,>=3.3.4 in /Users/layalsaadeddine/myenv/lib/python3.12/site-packages (from dvc) (3.3.6)\n",
      "Requirement already satisfied: shortuuid>=0.5 in /Users/layalsaadeddine/myenv/lib/python3.12/site-packages (from dvc) (1.0.13)\n",
      "Requirement already satisfied: shtab<2,>=1.3.4 in /Users/layalsaadeddine/myenv/lib/python3.12/site-packages (from dvc) (1.7.1)\n",
      "Requirement already satisfied: tabulate>=0.8.7 in /Users/layalsaadeddine/myenv/lib/python3.12/site-packages (from dvc) (0.9.0)\n",
      "Requirement already satisfied: tomlkit>=0.11.1 in /Users/layalsaadeddine/myenv/lib/python3.12/site-packages (from dvc) (0.13.0)\n",
      "Requirement already satisfied: tqdm<5,>=4.63.1 in /Users/layalsaadeddine/myenv/lib/python3.12/site-packages (from dvc) (4.66.4)\n",
      "Requirement already satisfied: voluptuous>=0.11.7 in /Users/layalsaadeddine/myenv/lib/python3.12/site-packages (from dvc) (0.15.2)\n",
      "Requirement already satisfied: zc.lockfile>=1.2.1 in /Users/layalsaadeddine/myenv/lib/python3.12/site-packages (from dvc) (3.0.post1)\n",
      "Requirement already satisfied: six in /Users/layalsaadeddine/myenv/lib/python3.12/site-packages (from configobj>=5.0.6->dvc) (1.16.0)\n",
      "Requirement already satisfied: dictdiffer>=0.8.1 in /Users/layalsaadeddine/myenv/lib/python3.12/site-packages (from dvc-data<3.16,>=3.15->dvc) (0.9.0)\n",
      "Requirement already satisfied: diskcache>=5.2.1 in /Users/layalsaadeddine/myenv/lib/python3.12/site-packages (from dvc-data<3.16,>=3.15->dvc) (5.6.3)\n",
      "Requirement already satisfied: sqltrie<1,>=0.11.0 in /Users/layalsaadeddine/myenv/lib/python3.12/site-packages (from dvc-data<3.16,>=3.15->dvc) (0.11.0)\n",
      "Requirement already satisfied: aiohttp-retry>=2.5.0 in /Users/layalsaadeddine/myenv/lib/python3.12/site-packages (from dvc-http>=2.29.0->dvc) (2.8.3)\n",
      "Requirement already satisfied: billiard<5.0,>=4.2.0 in /Users/layalsaadeddine/myenv/lib/python3.12/site-packages (from celery->dvc) (4.2.0)\n",
      "Requirement already satisfied: vine<6.0,>=5.1.0 in /Users/layalsaadeddine/myenv/lib/python3.12/site-packages (from celery->dvc) (5.1.0)\n",
      "Requirement already satisfied: click<9.0,>=8.1.2 in /Users/layalsaadeddine/myenv/lib/python3.12/site-packages (from celery->dvc) (8.1.7)\n",
      "Requirement already satisfied: click-didyoumean>=0.3.0 in /Users/layalsaadeddine/myenv/lib/python3.12/site-packages (from celery->dvc) (0.3.1)\n",
      "Requirement already satisfied: click-repl>=0.2.0 in /Users/layalsaadeddine/myenv/lib/python3.12/site-packages (from celery->dvc) (0.3.0)\n",
      "Requirement already satisfied: click-plugins>=1.1.1 in /Users/layalsaadeddine/myenv/lib/python3.12/site-packages (from celery->dvc) (1.1.1)\n",
      "Requirement already satisfied: tzdata>=2022.7 in /Users/layalsaadeddine/myenv/lib/python3.12/site-packages (from celery->dvc) (2024.1)\n",
      "Requirement already satisfied: python-dateutil>=2.8.2 in /Users/layalsaadeddine/myenv/lib/python3.12/site-packages (from celery->dvc) (2.9.0.post0)\n",
      "Requirement already satisfied: atpublic in /Users/layalsaadeddine/myenv/lib/python3.12/site-packages (from flufl.lock<9,>=8.1.0->dvc) (5.0)\n",
      "Requirement already satisfied: typer>=0.4.1 in /Users/layalsaadeddine/myenv/lib/python3.12/site-packages (from gto<2,>=1.6.0->dvc) (0.12.3)\n",
      "Requirement already satisfied: pydantic!=2.0.0,<3,>=1.9.0 in /Users/layalsaadeddine/myenv/lib/python3.12/site-packages (from gto<2,>=1.6.0->dvc) (2.8.2)\n",
      "Requirement already satisfied: semver>=2.13.0 in /Users/layalsaadeddine/myenv/lib/python3.12/site-packages (from gto<2,>=1.6.0->dvc) (3.0.2)\n",
      "Requirement already satisfied: entrypoints in /Users/layalsaadeddine/myenv/lib/python3.12/site-packages (from gto<2,>=1.6.0->dvc) (0.4)\n",
      "Requirement already satisfied: antlr4-python3-runtime==4.9.* in /Users/layalsaadeddine/myenv/lib/python3.12/site-packages (from hydra-core>=1.1->dvc) (4.9.3)\n",
      "Requirement already satisfied: appdirs in /Users/layalsaadeddine/myenv/lib/python3.12/site-packages (from iterative-telemetry>=0.0.7->dvc) (1.4.4)\n",
      "Requirement already satisfied: filelock in /Users/layalsaadeddine/myenv/lib/python3.12/site-packages (from iterative-telemetry>=0.0.7->dvc) (3.15.4)\n",
      "Requirement already satisfied: amqp<6.0.0,>=5.1.1 in /Users/layalsaadeddine/myenv/lib/python3.12/site-packages (from kombu->dvc) (5.2.0)\n",
      "Requirement already satisfied: PyYAML>=5.1.0 in /Users/layalsaadeddine/myenv/lib/python3.12/site-packages (from omegaconf->dvc) (6.0.1)\n",
      "Requirement already satisfied: charset-normalizer<4,>=2 in /Users/layalsaadeddine/myenv/lib/python3.12/site-packages (from requests>=2.22->dvc) (3.3.2)\n",
      "Requirement already satisfied: idna<4,>=2.5 in /Users/layalsaadeddine/myenv/lib/python3.12/site-packages (from requests>=2.22->dvc) (3.7)\n",
      "Requirement already satisfied: urllib3<3,>=1.21.1 in /Users/layalsaadeddine/myenv/lib/python3.12/site-packages (from requests>=2.22->dvc) (2.2.2)\n",
      "Requirement already satisfied: certifi>=2017.4.17 in /Users/layalsaadeddine/myenv/lib/python3.12/site-packages (from requests>=2.22->dvc) (2024.6.2)\n",
      "Requirement already satisfied: markdown-it-py>=2.2.0 in /Users/layalsaadeddine/myenv/lib/python3.12/site-packages (from rich>=12->dvc) (3.0.0)\n",
      "Requirement already satisfied: pygments<3.0.0,>=2.13.0 in /Users/layalsaadeddine/myenv/lib/python3.12/site-packages (from rich>=12->dvc) (2.18.0)\n",
      "Requirement already satisfied: ruamel.yaml.clib>=0.2.7 in /Users/layalsaadeddine/myenv/lib/python3.12/site-packages (from ruamel.yaml>=0.17.11->dvc) (0.2.8)\n",
      "Requirement already satisfied: gitpython>3 in /Users/layalsaadeddine/myenv/lib/python3.12/site-packages (from scmrepo<4,>=3.3.4->dvc) (3.1.43)\n",
      "Requirement already satisfied: pygit2>=1.14.0 in /Users/layalsaadeddine/myenv/lib/python3.12/site-packages (from scmrepo<4,>=3.3.4->dvc) (1.15.1)\n",
      "Requirement already satisfied: asyncssh<3,>=2.13.1 in /Users/layalsaadeddine/myenv/lib/python3.12/site-packages (from scmrepo<4,>=3.3.4->dvc) (2.15.0)\n",
      "Requirement already satisfied: setuptools in /Users/layalsaadeddine/myenv/lib/python3.12/site-packages (from dulwich->dvc) (70.2.0)\n",
      "Requirement already satisfied: aiohttp in /Users/layalsaadeddine/myenv/lib/python3.12/site-packages (from aiohttp-retry>=2.5.0->dvc-http>=2.29.0->dvc) (3.9.5)\n",
      "Requirement already satisfied: cryptography>=39.0 in /Users/layalsaadeddine/myenv/lib/python3.12/site-packages (from asyncssh<3,>=2.13.1->scmrepo<4,>=3.3.4->dvc) (43.0.0)\n",
      "Requirement already satisfied: typing-extensions>=4.0.0 in /Users/layalsaadeddine/myenv/lib/python3.12/site-packages (from asyncssh<3,>=2.13.1->scmrepo<4,>=3.3.4->dvc) (4.12.2)\n",
      "Requirement already satisfied: prompt-toolkit>=3.0.36 in /Users/layalsaadeddine/myenv/lib/python3.12/site-packages (from click-repl>=0.2.0->celery->dvc) (3.0.47)\n",
      "Requirement already satisfied: gitdb<5,>=4.0.1 in /Users/layalsaadeddine/myenv/lib/python3.12/site-packages (from gitpython>3->scmrepo<4,>=3.3.4->dvc) (4.0.11)\n",
      "Requirement already satisfied: mdurl~=0.1 in /Users/layalsaadeddine/myenv/lib/python3.12/site-packages (from markdown-it-py>=2.2.0->rich>=12->dvc) (0.1.2)\n",
      "Requirement already satisfied: annotated-types>=0.4.0 in /Users/layalsaadeddine/myenv/lib/python3.12/site-packages (from pydantic!=2.0.0,<3,>=1.9.0->gto<2,>=1.6.0->dvc) (0.7.0)\n",
      "Requirement already satisfied: pydantic-core==2.20.1 in /Users/layalsaadeddine/myenv/lib/python3.12/site-packages (from pydantic!=2.0.0,<3,>=1.9.0->gto<2,>=1.6.0->dvc) (2.20.1)\n",
      "Requirement already satisfied: cffi>=1.16.0 in /Users/layalsaadeddine/myenv/lib/python3.12/site-packages (from pygit2>=1.14.0->scmrepo<4,>=3.3.4->dvc) (1.16.0)\n",
      "Requirement already satisfied: orjson in /Users/layalsaadeddine/myenv/lib/python3.12/site-packages (from sqltrie<1,>=0.11.0->dvc-data<3.16,>=3.15->dvc) (3.10.6)\n",
      "Requirement already satisfied: shellingham>=1.3.0 in /Users/layalsaadeddine/myenv/lib/python3.12/site-packages (from typer>=0.4.1->gto<2,>=1.6.0->dvc) (1.5.4)\n",
      "Requirement already satisfied: aiosignal>=1.1.2 in /Users/layalsaadeddine/myenv/lib/python3.12/site-packages (from aiohttp->aiohttp-retry>=2.5.0->dvc-http>=2.29.0->dvc) (1.3.1)\n",
      "Requirement already satisfied: frozenlist>=1.1.1 in /Users/layalsaadeddine/myenv/lib/python3.12/site-packages (from aiohttp->aiohttp-retry>=2.5.0->dvc-http>=2.29.0->dvc) (1.4.1)\n",
      "Requirement already satisfied: multidict<7.0,>=4.5 in /Users/layalsaadeddine/myenv/lib/python3.12/site-packages (from aiohttp->aiohttp-retry>=2.5.0->dvc-http>=2.29.0->dvc) (6.0.5)\n",
      "Requirement already satisfied: yarl<2.0,>=1.0 in /Users/layalsaadeddine/myenv/lib/python3.12/site-packages (from aiohttp->aiohttp-retry>=2.5.0->dvc-http>=2.29.0->dvc) (1.9.4)\n",
      "Requirement already satisfied: pycparser in /Users/layalsaadeddine/myenv/lib/python3.12/site-packages (from cffi>=1.16.0->pygit2>=1.14.0->scmrepo<4,>=3.3.4->dvc) (2.22)\n",
      "Requirement already satisfied: smmap<6,>=3.0.1 in /Users/layalsaadeddine/myenv/lib/python3.12/site-packages (from gitdb<5,>=4.0.1->gitpython>3->scmrepo<4,>=3.3.4->dvc) (5.0.1)\n",
      "Requirement already satisfied: wcwidth in /Users/layalsaadeddine/myenv/lib/python3.12/site-packages (from prompt-toolkit>=3.0.36->click-repl>=0.2.0->celery->dvc) (0.2.13)\n",
      "\n",
      "\u001b[1m[\u001b[0m\u001b[34;49mnotice\u001b[0m\u001b[1;39;49m]\u001b[0m\u001b[39;49m A new release of pip is available: \u001b[0m\u001b[31;49m24.0\u001b[0m\u001b[39;49m -> \u001b[0m\u001b[32;49m24.1.2\u001b[0m\n",
      "\u001b[1m[\u001b[0m\u001b[34;49mnotice\u001b[0m\u001b[1;39;49m]\u001b[0m\u001b[39;49m To update, run: \u001b[0m\u001b[32;49mpip install --upgrade pip\u001b[0m\n"
     ]
    }
   ],
   "source": [
    "!pip install dvc"
   ]
  },
  {
   "cell_type": "code",
   "execution_count": 88,
   "id": "d79eba42-bb45-4612-9fbd-fc64e02a0552",
   "metadata": {},
   "outputs": [],
   "source": [
    "import os\n",
    "import subprocess\n",
    "import pandas as pd"
   ]
  },
  {
   "cell_type": "code",
   "execution_count": 89,
   "id": "6ecfd553-40dd-4fb8-9e3a-3f3ce924eede",
   "metadata": {},
   "outputs": [],
   "source": [
    "def execute(command):\n",
    "    process = subprocess.run(command, shell=True, text=True, capture_output=True)\n",
    "    print(process.stdout)\n",
    "    "
   ]
  },
  {
   "cell_type": "code",
   "execution_count": 90,
   "id": "ce3f41c6-486d-45ac-8e68-12374ef34ab6",
   "metadata": {},
   "outputs": [],
   "source": [
    "def initialize_repo():\n",
    "    #os.makedirs(repo_path, exist_ok=True)\n",
    "    #execute(f'cd {repo_path}')\n",
    "    execute('git init')\n",
    "    execute('dvc init')\n",
    "    execute('dvc config core.autostage true')"
   ]
  },
  {
   "cell_type": "code",
   "execution_count": 91,
   "id": "dd8efda5-d5ce-44db-922c-00ec5f4d9f7a",
   "metadata": {},
   "outputs": [],
   "source": [
    "def add_file(file):\n",
    "    # add to dvc\n",
    "    execute(f\"dvc add {file}\")\n",
    "    # commit changes to git\n",
    "    execute(f\"git add {file}.dvc .gitignore\")\n",
    "    execute(f\"git commit -m 'Add {file} to DVC'\")"
   ]
  },
  {
   "cell_type": "code",
   "execution_count": 92,
   "id": "76707a40-bf97-4e54-a786-b71110d330ed",
   "metadata": {},
   "outputs": [],
   "source": [
    "def add_version(file):\n",
    "    # add to dvc\n",
    "    execute(f\"dvc add {file}\")\n",
    "    # commit changes to git\n",
    "    execute(f\"git add {file}.dvc\")\n",
    "    execute(f\"git commit -m 'Add {file} version to DVC'\")"
   ]
  },
  {
   "cell_type": "code",
   "execution_count": 93,
   "id": "0fe51aed-3d0b-4868-b2fd-e73a6b1be452",
   "metadata": {},
   "outputs": [],
   "source": [
    "def get_version(file):\n",
    "    execute(f\"git checkout HEAD^1 {file}\")\n",
    "    execute('dvc checkout')"
   ]
  },
  {
   "cell_type": "code",
   "execution_count": 101,
   "id": "68c5d3bc-9264-4ffe-a938-e067f61746a9",
   "metadata": {},
   "outputs": [],
   "source": [
    "def revert_version(file):\n",
    "    execute(f\"git commit {file}.dvc -m 'Revert file'\")"
   ]
  },
  {
   "cell_type": "code",
   "execution_count": 94,
   "id": "5513f56d-45e8-40ea-bbb5-23db66123070",
   "metadata": {},
   "outputs": [],
   "source": [
    "def process_file(file_path):\n",
    "    # read csv file\n",
    "    df = pd.read_csv(file_path)\n",
    "    \n",
    "    # concatenate the addressline1 and addressline2 and save them in addressline\n",
    "    df = df.assign(ADDRESSLINE1 = df.apply(lambda x: x['ADDRESSLINE1'] if pd.isnull(x['ADDRESSLINE2']) else f\"{x['ADDRESSLINE1']}, {x['ADDRESSLINE2']}\",axis=1))\n",
    "    df = df.drop('ADDRESSLINE2', axis = 1)\n",
    "    df = df.rename(columns={'ADDRESSLINE1':'ADDRESSLINE'})\n",
    "    \n",
    "    # null values of states are not modified as only Australia and USA have states\n",
    "    # set the TERRITORY of USA and Canada to be NA\n",
    "    df.loc[df['COUNTRY'] == 'USA', 'TERRITORY'] = 'NA'\n",
    "    df.loc[df['COUNTRY'] == 'Canada', 'TERRITORY'] = 'NA'\n",
    "    \n",
    "    # null values of postal codes are not fixed due to missing information from the customere\n",
    "    # save back to csv\n",
    "    df.to_csv(file_path, index=False)"
   ]
  },
  {
   "cell_type": "code",
   "execution_count": 95,
   "id": "af3467aa-078b-4a00-a595-192e4be96ff9",
   "metadata": {},
   "outputs": [
    {
     "name": "stdout",
     "output_type": "stream",
     "text": [
      "Reinitialized existing Git repository in /Users/layalsaadeddine/Desktop/FSD 2/ML/.git/\n",
      "\n",
      "\n",
      "\n"
     ]
    }
   ],
   "source": [
    "initialize_repo()"
   ]
  },
  {
   "cell_type": "code",
   "execution_count": 96,
   "id": "6156ee47-b13a-4505-a749-29816eef0d06",
   "metadata": {},
   "outputs": [
    {
     "name": "stdout",
     "output_type": "stream",
     "text": [
      "\n",
      "\n",
      "On branch master\n",
      "Changes not staged for commit:\n",
      "  (use \"git add/rm <file>...\" to update what will be committed)\n",
      "  (use \"git restore <file>...\" to discard changes in working directory)\n",
      "\tmodified:   .DS_Store\n",
      "\tmodified:   .dvc/config\n",
      "\tmodified:   DVC_initialization.ipynb\n",
      "\tdeleted:    NewCustomers.csv.dvc\n",
      "\n",
      "Untracked files:\n",
      "  (use \"git add <file>...\" to include in what will be committed)\n",
      "\t.ipynb_checkpoints/DVC_local-checkpoint.ipynb\n",
      "\tDVC_local.ipynb\n",
      "\n",
      "no changes added to commit (use \"git add\" and/or \"git commit -a\")\n",
      "\n"
     ]
    }
   ],
   "source": [
    "file_path = \"Customers.csv\"\n",
    "add_file(file_path)"
   ]
  },
  {
   "cell_type": "code",
   "execution_count": 97,
   "id": "2d22c111-1cb4-4ba0-9e36-7c953ac94126",
   "metadata": {},
   "outputs": [],
   "source": [
    "process_file(file_path)"
   ]
  },
  {
   "cell_type": "code",
   "execution_count": 98,
   "id": "e3224999-b18d-4464-9e47-7285b7ad2ec2",
   "metadata": {},
   "outputs": [
    {
     "name": "stdout",
     "output_type": "stream",
     "text": [
      "\n",
      "\n",
      "[master e4b0617] Add Customers.csv version to DVC\n",
      " 1 file changed, 2 insertions(+), 2 deletions(-)\n",
      "\n"
     ]
    }
   ],
   "source": [
    "add_version(file_path)"
   ]
  },
  {
   "cell_type": "code",
   "execution_count": 99,
   "id": "6c072d7b-ae82-4a00-abeb-ba13f611b831",
   "metadata": {},
   "outputs": [
    {
     "name": "stdout",
     "output_type": "stream",
     "text": [
      "\n",
      "\n"
     ]
    }
   ],
   "source": [
    "get_version(\"Customers.csv.dvc\")"
   ]
  },
  {
   "cell_type": "code",
   "execution_count": 100,
   "id": "7e6df8de-3337-4016-83f8-c65823599a6a",
   "metadata": {},
   "outputs": [
    {
     "name": "stdout",
     "output_type": "stream",
     "text": [
      "total 456\n",
      "-rw-r--r--@ 1 layalsaadeddine  staff    97K Jul 30 14:39 Customers.csv\n",
      "-rw-r--r--  1 layalsaadeddine  staff    95B Jul 30 14:58 Customers.csv.dvc\n",
      "-rw-r--r--  1 layalsaadeddine  staff    43K Jul 30 14:03 DVC_initialization.ipynb\n",
      "-rw-r--r--  1 layalsaadeddine  staff    23K Jul 30 14:57 DVC_local.ipynb\n",
      "-rw-r--r--  1 layalsaadeddine  staff    52K Jul 30 11:16 Untitled.ipynb\n",
      "\n"
     ]
    }
   ],
   "source": [
    "execute(\"ls -lh\")"
   ]
  }
 ],
 "metadata": {
  "kernelspec": {
   "display_name": "Python 3.9.7 64-bit",
   "language": "python",
   "name": "python3"
  },
  "language_info": {
   "codemirror_mode": {
    "name": "ipython",
    "version": 3
   },
   "file_extension": ".py",
   "mimetype": "text/x-python",
   "name": "python",
   "nbconvert_exporter": "python",
   "pygments_lexer": "ipython3",
   "version": "3.9.7"
  },
  "vscode": {
   "interpreter": {
    "hash": "aee8b7b246df8f9039afb4144a1f6fd8d2ca17a180786b69acc140d282b71a49"
   }
  }
 },
 "nbformat": 4,
 "nbformat_minor": 5
}
